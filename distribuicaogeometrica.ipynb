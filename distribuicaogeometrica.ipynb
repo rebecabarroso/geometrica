{
  "nbformat": 4,
  "nbformat_minor": 0,
  "metadata": {
    "colab": {
      "provenance": [],
      "include_colab_link": true
    },
    "kernelspec": {
      "name": "python3",
      "display_name": "Python 3"
    },
    "language_info": {
      "name": "python"
    }
  },
  "cells": [
    {
      "cell_type": "markdown",
      "metadata": {
        "id": "view-in-github",
        "colab_type": "text"
      },
      "source": [
        "<a href=\"https://colab.research.google.com/github/rebecabarroso/geometrica/blob/main/distribuicaogeometrica.ipynb\" target=\"_parent\"><img src=\"https://colab.research.google.com/assets/colab-badge.svg\" alt=\"Open In Colab\"/></a>"
      ]
    },
    {
      "cell_type": "markdown",
      "source": [
        "#Distribuição Geométrica\n",
        "\n",
        "- tem o intuito de modelar uma serie de resultados falhos até ser obtido um resultado bem sucedido.\n",
        "\n",
        "**Definição:** A distribuição geométrica é uma distribuição\n",
        "discreta de probabilidade da variável aleatória x\n",
        "com as seguintes condições:\n",
        "\n",
        "\n",
        "1.   A tentativa é repetida até que o sucesso ocorra;\n",
        "2.  As sucessivas tentativas são independentes entre si;\n",
        "3. A probabilidade de sucesso é a mesma a cada tentativa.\n",
        "\n",
        "\n",
        "**Representação:** X~geom(p)\n",
        "\n",
        "\n",
        "\n",
        "\n",
        "---\n",
        "\n",
        "**Exemplo:**\n",
        "Qual a probabilidade de um jogador acertar uma cesta, depois de 14 erros?\n",
        "\n",
        "p = 0.53\n",
        "\n",
        "\n",
        "k = 15"
      ],
      "metadata": {
        "id": "Il2FiRmq9P8L"
      }
    },
    {
      "cell_type": "code",
      "source": [
        "# Para gerarmos dados com uma distribuição geométrica, podemos usar as seguintes bibliotecas:\n",
        "import pandas as pd\n",
        "import numpy as np #numeros e operações\n",
        "import matplotlib.pyplot as plt #grafico\n",
        "from scipy.stats import geom #funções estatiticas\n",
        "import sympy as sp"
      ],
      "metadata": {
        "id": "hurqGjvyRB9s"
      },
      "execution_count": null,
      "outputs": []
    },
    {
      "cell_type": "code",
      "source": [
        "# probabilidade de acerto\n",
        "p=0.53\n",
        "k=15\n",
        "probabilidade=((1-p)**k)*p\n",
        "print('A probabilidade de que o primeiro sucesso ocorra é:', probabilidade)"
      ],
      "metadata": {
        "id": "VsU89cmERTXk",
        "colab": {
          "base_uri": "https://localhost:8080/"
        },
        "outputId": "901d3a22-b956-4b47-e5fb-83aae0978f10"
      },
      "execution_count": null,
      "outputs": [
        {
          "output_type": "stream",
          "name": "stdout",
          "text": [
            "A probabilidade de que o primeiro sucesso ocorra é: 6.3935746259347905e-06\n"
          ]
        }
      ]
    },
    {
      "cell_type": "markdown",
      "source": [
        "#Função geradora de momentos (fgm)\n",
        "\n",
        "A fgm tem a seguite formula:\n",
        "\n",
        "![mfg - geo.png](data:image/png;base64,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)"
      ],
      "metadata": {
        "id": "1EHPLZgU-bUi"
      }
    },
    {
      "cell_type": "code",
      "source": [
        "# calculando a Função Geradora de Momentos\n",
        "p=0.53\n",
        "t = 0.008\n",
        "fgm = (1-0.53)*0.53*sp.exp(t) / ((0.53-1)* sp.exp(t)+1)\n",
        "print(\"Função Geradora de Momentos:\", fgm)"
      ],
      "metadata": {
        "colab": {
          "base_uri": "https://localhost:8080/"
        },
        "id": "gx6pzPH2Sh6N",
        "outputId": "7b1d0c4b-6369-4d6a-fac6-2ac6f96d4178"
      },
      "execution_count": null,
      "outputs": [
        {
          "output_type": "stream",
          "name": "stdout",
          "text": [
            "Função Geradora de Momentos: 0.477173890944484\n"
          ]
        }
      ]
    },
    {
      "cell_type": "markdown",
      "source": [
        "#Valor esperado\n",
        "O valor esperado teórico:\n",
        "\n",
        " ![esperança - geo.png](data:image/png;base64,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)\n"
      ],
      "metadata": {
        "id": "weEN4rnPP8BH"
      }
    },
    {
      "cell_type": "code",
      "source": [
        "# calculanndo a esperança\n",
        "\n",
        "esperanca = 1/p\n",
        "print(\"A Esperança é:\", esperanca)"
      ],
      "metadata": {
        "colab": {
          "base_uri": "https://localhost:8080/"
        },
        "id": "f2kHTh50Prxs",
        "outputId": "a8563398-41e6-4e3e-99c3-460e8306551d"
      },
      "execution_count": null,
      "outputs": [
        {
          "output_type": "stream",
          "name": "stdout",
          "text": [
            "A Esperança é: 1.8867924528301885\n"
          ]
        }
      ]
    },
    {
      "cell_type": "markdown",
      "source": [
        "#Esperança ao quadrado\n",
        "\n",
        "O valor esperado ao quadrado é dado por:\n",
        "\n",
        "![esp 2 - geo.png](data:image/png;base64,iVBORw0KGgoAAAANSUhEUgAAAMkAAABFCAYAAADgtMKmAAAAAXNSR0IArs4c6QAAAARnQU1BAACxjwv8YQUAAAAJcEhZcwAAEnQAABJ0Ad5mH3gAAAzHSURBVHhe7Z1PTBtXHse/uwf7Ek5wiU/Oxb7EqAlWU7sKMVIXd9sabQJdgaMNkG1IVf6oBaryRwpkVSBqSKLlj7Sku0CjjZsWUwl7K9VEqt2qDJWCWxX3kOEQc8EcYi5xDwyX2XnjcWrM2MOfMXbw+ygjv5kxMI7n+35/3u+9+QMvAAqFkpY/Sq8UCiUNVCQUigJUJBSKAlQkFIoCVCQUigJUJBSKAlQkFIoCVCQUigJUJBSKAlQkFIoCtCyFkpbo0n3cmnCDCa7iN2hQbKpAw9U2VFt10ErvKQSoSCgycGCnrqBhNIQt6UgyesdtjF6vgE7aP+pQd4uyE/Y+eiYA59hXCPz0M4LCxsw/QLftmHh61duObndYbBcCeWdJop5m2PsZaW87ddM/o7NU2skWXBi+0RFM+xisbAj96DE9bFWNaGiogqlEeo8syxg+XY/Ppb1tWK7DN16FjD+eN3BgBtqx0TgOxw5TEYG3+Tz6F4X/l+OtcH19GUbpzFEmfy2JphgGg2HblnXzHvGjr+4CelyBuEAIv60i4OpDw1uXMMVy8WNp0KVcr6FYI515kWCxqmuTEQhBB8fVGiE6EVgPYiUqHjz6EEuSTzyde48/feol/vR7c/xT6djh8Iz/9qOX+QvXvuSX1zalY5v82sInfO0Z4XrINZ35mF9InNoFufssWeTpHN9MPtOpT/hH0qGjDo1JEoS/wWzJOFzX34ZJl8jdaKGzfojpu07oye6WG14mJp4peGymnLlaXCwClvHANdyFptoB+MlXEguDmfoA1eWnUHb6LOoHPAhnNvy7hopEIroSE1wJs2xqU1sqxCSWeHs+WDgBqxzcSgiLgsNV7axAkXTsMCExq/Xcm3C29OGWy4dgsQn6qAeDUxHonXcw+/33mHCW4NfZPjiHl4QI6+BQkUiU2C/DnvZbL4H+RLxVZngxwu/sEEPA7YbGch1NZqWREpLIIL36XrdmeDPEOiVV42K2bcIZ3y/WMpgNGNHR9iriDkARzM5GlAmtrVlBRCqohIpkTxyHxVgoowMysDO4y1jR0/v6LjJ1peiU0sd728bhUPzlUWxIBj3GWeFsNG73ADTiP4EINlTwjqlIdkUY7JLwYmqEvRBynrKE4R70wnL3dprM1yHCsQgukoYJHZ1VO7OeMQ4bYkOP4yoYfiqS3cD6Mb2iR0OHzBdSEHAICUFyoHocnaVKbtYhwDLwklebE3bJDU4mGgpghTQqzaokF6hIFInBPzUBrVPww/PhBskBEU8XhjW9uFWVH10EG/SL5TLVNXLJgwgCs2QwWiOct6qSXKAiUYBjRtAf68VoZ2lBFfUliPivoX+lEXfb8uXzhxHyrQuvdlhMMlfEfoPpkPBq6kSdYnJhd1CRZCLiQceIBmO3C9PNijID6A9W4VY+dRDREALEl7JYYdphJkjcNIp1jRX9Q29DxhPbFyqIRHBHuuRSeUrbGYwuS79CJULDcn8nvrX4tucV2ak3ZN9XdvomSEcEbhnD3X44bn8IuQ7rqEMsSI/fhsFOs6zLwkVZePsmsaTSgN1uiYUYkJjdUGFKybCRuKkdQyE93hrqVTe5II28H5zNJ/zMe1L5xqk/85OPpeNJbD5b4x9N/p0vF98jX+Jx0FKOzbUf+IHziet4iW+eWZPOyPDkS/6K+L6X+dqP/ssvPHnKi5e0+ZiffOd93pPhR3fDi1qWsjb3vvQdZd7elPuSs8omv/Bx/G+Xf/Al//iZdPjZY95z7S/86TN/5W8uqP8/rZ67pT0BY8K+aSpglkkraIt0MDf+G3db9YK5LIMhCz20VvcqOvqdOC7tQ5O+yJANuBDUGFA39jU+v3ER1hMl0HKCye7+F0qu38l9qjMHRH3NqO4P4DdpPz0mNBx6PpwFQ9JammLoIi40nYtbf8uFATCGTrgffoFOaxYGeyWxqMBT3pOwJB//EO+R0/HLJ3ztzBNpZzvq9L6CJXhDupaPvuUTHU4ym8I1XDibYi0kCzLzJM3Vbz7j1x79k782tzsTcyQLHHPJ4//wb+7m/lIZ9SxJLARGHOABqivka6B+RwurQa2wSg4jrDWSLZlnEErxm7nlm3D2x9DyIMlaxJYwWn8JY8EAhqpfSYlTpM1SDkdTGNaKQgzjc0845APJa1VaDzeRoJpIOCGgmhdbcqk5FlP3k6L00ja0ZnnylLGsQipN8IBhxYYIx06iqSOCprF/4Pm9LgTpo/VXML0iN1l1O5rqi7CpkXyn7JEofvWTtJYV1p1prayikkg4BP3ueFMuNccuYF2XTcshg9EKh9jYQiAYV4kokJYQnJ/dgT3ZGGhL0fqVXB3Rzm2xV8lKUrJCxA+3mNay4WQWwo5MqCQSKaASOCm4Wts/QwTeEQYm4yF3v8KNb6mMN9d9ywgRgVwJoiZVIHlIplS28pa5ivaFhIvAPzWFX0m7mDjrh4s6c9wFH9/S4BL6bAO6Z79AjWQ0uMgyvBN9GPJVYPrHNpjihzPyfI67CvPCf58vr4HmmBk9D+TmbWePfX8WLoaYsueXFk1R0Z5uJCKuQoB4AvtBFZGQgTnnKAmp0lB5G4Ebu5uko6ZIEJ5BXfWgWOxmG3qIW/bDtdOqfhZKzlDB3RJcLXdcIBrnZ9v8d2b2OixC9FxmNapSaLZXOMG2CdZZJLDEqjJLjVJ4HFwk4WXMixrRwGHbPrikPVGF1qt6mPQ5CAJI3VU9Ay1RKYFhsRpv5T/E3Yrtf6OdgbocWCThoDteu48q2GSKnIqKHTh5yIktIpCWWh9sn93G4MWq+LF1H0IvyPT00Gg5bOf2u3VhvlCW+jksSEyyf5JG2dOMbD+ameP3UgJ14FHqtTm++ezf+MnH0pjss2/5LvL7hK157nDHvemI+9HgYJYkysAnjbJX2uWrRc01h1hmLloQN8o+/RSNRsmqFZlglVY6WWRCoAsCUfbKgUSSKFve/ShoBN6pb7Jzo4oCuQ/jWJJAREpwssIQb8qUqFAoShxAJDEwXl+8abKhTDG/Ser9P0DIpP56TVx4RrIg99AqM8X2hMkuVQV7EKAqoeyR/Ysk6oc3EG8aHGYFlyoKZvgSmtxmOFSaUpkg4rsGZ3UAtgf3UixIEkYz7GKSawteN0NdrjwjujSJjtrXYCEVA6+8hrr2SSzlUfJhfyKJsXD3DUiulgAnNzzMIRZhwXhuoqn8T2h1raD4atWuRt2V4RANL2Dqylk4ur1YPa6HTpPeQsRYFokax635LnRPLSNCDUoeQLyL87A3jWJpqxh6gx7HtjawEhjF1crzGF7Ojy9pbyPu3AIGLS2YlXb3hgnd/7uHGoUoXnGUOirEHpV9vws0CUv/Q4xVJf1EzI/uc+1SdbIMzk8R7DRLO+pDR9wVYCdRN1KE/htv43lpH+mAuy5hiDzeQVODie96obLzsXfEHFcecZTSpjQFnJnHM//hH8nNntr8gR8QV/J/mR/5RTqWQw6WAqZQDoCx5rK8ldC+isoa0tjKi+oBKhKKqnBRsi7WDIa73kGLJywcCMM7cAmVrwhBefk7cCk8CClBXDtW5MPSy1QkFPVYvglr5QU0dA/i8/kYrLoNuLwx2HrvYf6r67BsBXGrfngXyxBFsUpKiGwO2PIgkKMioahH6YcI/vQQgzays4UAS5YaLY2Pi+mq0EBcqC0PFpOmU8sSW0JgUY+Wq6/npHo8FSoSirpEmfj42XErmgSB7Aw5lOIMDqGJEay23kBjnqzgT0VCUZVY0C+m521t76YE5WGsksdXCHGGKUOcwS2PYDD8LkbzRSECVCQUFYlhyS+YEU0N6lKXlHm+hq89fQlTxIOe0WL059nay1QkFPUQYon5eUEjDvuO9ZMjAbdgYYQY5aJdflCVrL3cx6Jh7DLSVRflClXmuKvJ81Fq8hx3fWLybRxHzxdwZnm9rv2zDFftQPzhMgk2VuPPgy+QEXeOGYC1xYPqu9+jJ9nXIpUa51rgLRuCd1zmUXJkadlBL/SdbTDnQ6SeQv5aElLDs7KybYtIp/KVSMr1igIpGBJrr6XOUI3A296OWY0DgzfSCcQNXau8QCKeyfgjqHNI3lkSygsKtyRYiyuYLbYLMUUvHKQYK8bCO9yF/pAJw8krZiaQVs50beiR4jSIbEVWsGoeQuB2blPBVCQUdZDWXtPoDdAKNzcxoppiE2wNbei4mLpgoQARSF09phVW56ge+xE91twGKVQkFFUIDZ9Bg8uKwe/uZHge/osJzW5RVIDFkp8kKCpQdsQEQqAioRwcdgGz62QIxHokM3hUJJSDQap8RyawDj3KjEczyU1jEsq+CY0Icch0Sprb0AP3A/WefJsPUJFQKApQd4tCUYCKhEJRgIqEQlGAioRCyQjwf2MQiyfTa+CfAAAAAElFTkSuQmCC)\n"
      ],
      "metadata": {
        "id": "pFE2PmvHQG20"
      }
    },
    {
      "cell_type": "code",
      "source": [
        "#calculando a esperança²\n",
        "\n",
        "esperanca_quad= (2 - p) / (p ** 2)\n",
        "print('A esperança ao quadrado é:', esperanca_quad)"
      ],
      "metadata": {
        "colab": {
          "base_uri": "https://localhost:8080/"
        },
        "id": "OG3Zj2OEP-Q5",
        "outputId": "16ca05a2-f185-4f32-e861-80d05c0f58d2"
      },
      "execution_count": null,
      "outputs": [
        {
          "output_type": "stream",
          "name": "stdout",
          "text": [
            "A esperança ao quadrado é: 5.23317906728373\n"
          ]
        }
      ]
    },
    {
      "cell_type": "markdown",
      "source": [
        "#Variância\n",
        "\n",
        "A variância teorica é dado por:\n",
        "\n",
        "![var - geo.png](data:image/png;base64,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)"
      ],
      "metadata": {
        "id": "Zgs6_w_LRIt8"
      }
    },
    {
      "cell_type": "code",
      "source": [
        "# calculando a variancia\n",
        "\n",
        "var = (1-p)/(p**2)\n",
        "print('variancia:', var)"
      ],
      "metadata": {
        "colab": {
          "base_uri": "https://localhost:8080/"
        },
        "id": "t7Riw3qkRUMb",
        "outputId": "edbefb18-1e4f-4227-eb3b-15f7a485c20e"
      },
      "execution_count": null,
      "outputs": [
        {
          "output_type": "stream",
          "name": "stdout",
          "text": [
            "variancia: 1.6731933072267708\n"
          ]
        }
      ]
    },
    {
      "cell_type": "markdown",
      "source": [
        "#Demonstração gráfica do exemplo"
      ],
      "metadata": {
        "id": "5qbvyswHRcFB"
      }
    },
    {
      "cell_type": "code",
      "source": [
        "k = 15\n",
        "p = 0.53\n",
        "x = np.arange(1, k+1) #criando uma sequência de números\n",
        "prob = geom.pmf(x, p) #calculado a função de massa de probabilidade\n",
        "plt.bar(x, prob)\n",
        "plt.xlabel('Número de Tentativas')\n",
        "plt.ylabel('Probabilidade')\n",
        "plt.title('Distribuição Geométrica')\n",
        "plt.xticks(x)\n",
        "plt.show()"
      ],
      "metadata": {
        "colab": {
          "base_uri": "https://localhost:8080/",
          "height": 472
        },
        "id": "cB0Vwr-K-Hlz",
        "outputId": "ee2d5d0c-7cf7-4f12-b53d-ff267bfb21bc"
      },
      "execution_count": null,
      "outputs": [
        {
          "output_type": "display_data",
          "data": {
            "text/plain": [
              "<Figure size 640x480 with 1 Axes>"
            ],
            "image/png": "[encoded data removed]"
          },
          "metadata": {}
        }
      ]
    }
  ]
}